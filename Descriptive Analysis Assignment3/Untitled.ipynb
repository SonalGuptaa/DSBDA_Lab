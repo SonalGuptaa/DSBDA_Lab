{
 "cells": [
  {
   "cell_type": "code",
   "execution_count": 2,
   "id": "5963e657",
   "metadata": {},
   "outputs": [],
   "source": [
    "import pandas as pd"
   ]
  },
  {
   "cell_type": "code",
   "execution_count": 3,
   "id": "8e708262",
   "metadata": {},
   "outputs": [],
   "source": [
    "df=pd.read_csv('Salary_Data.csv')"
   ]
  },
  {
   "cell_type": "code",
   "execution_count": 4,
   "id": "b733268a",
   "metadata": {},
   "outputs": [
    {
     "data": {
      "text/plain": [
       "<bound method NDFrame.head of     YearsExperience   Age  Salary\n",
       "0               1.1  21.0   39343\n",
       "1               1.3  21.5   46205\n",
       "2               1.5  21.7   37731\n",
       "3               2.0  22.0   43525\n",
       "4               2.2  22.2   39891\n",
       "5               2.9  23.0   56642\n",
       "6               3.0  23.0   60150\n",
       "7               3.2  23.3   54445\n",
       "8               3.2  23.3   64445\n",
       "9               3.7  23.6   57189\n",
       "10              3.9  23.9   63218\n",
       "11              4.0  24.0   55794\n",
       "12              4.0  24.0   56957\n",
       "13              4.1  24.0   57081\n",
       "14              4.5  25.0   61111\n",
       "15              4.9  25.0   67938\n",
       "16              5.1  26.0   66029\n",
       "17              5.3  27.0   83088\n",
       "18              5.9  28.0   81363\n",
       "19              6.0  29.0   93940\n",
       "20              6.8  30.0   91738\n",
       "21              7.1  30.0   98273\n",
       "22              7.9  31.0  101302\n",
       "23              8.2  32.0  113812\n",
       "24              8.7  33.0  109431\n",
       "25              9.0  34.0  105582\n",
       "26              9.5  35.0  116969\n",
       "27              9.6  36.0  112635\n",
       "28             10.3  37.0  122391\n",
       "29             10.5  38.0  121872>"
      ]
     },
     "execution_count": 4,
     "metadata": {},
     "output_type": "execute_result"
    }
   ],
   "source": [
    "df.head"
   ]
  },
  {
   "cell_type": "code",
   "execution_count": 5,
   "id": "5d91cb91",
   "metadata": {},
   "outputs": [
    {
     "data": {
      "text/plain": [
       "Index(['YearsExperience', 'Age', 'Salary'], dtype='object')"
      ]
     },
     "execution_count": 5,
     "metadata": {},
     "output_type": "execute_result"
    }
   ],
   "source": [
    "df.columns"
   ]
  },
  {
   "cell_type": "code",
   "execution_count": 6,
   "id": "99fad0f4",
   "metadata": {},
   "outputs": [
    {
     "data": {
      "text/plain": [
       "YearsExperience    float64\n",
       "Age                float64\n",
       "Salary               int64\n",
       "dtype: object"
      ]
     },
     "execution_count": 6,
     "metadata": {},
     "output_type": "execute_result"
    }
   ],
   "source": [
    "df.dtypes"
   ]
  },
  {
   "cell_type": "code",
   "execution_count": 7,
   "id": "142405fe",
   "metadata": {},
   "outputs": [
    {
     "data": {
      "text/plain": [
       "float64    2\n",
       "int64      1\n",
       "Name: count, dtype: int64"
      ]
     },
     "execution_count": 7,
     "metadata": {},
     "output_type": "execute_result"
    }
   ],
   "source": [
    "df.dtypes.value_counts()"
   ]
  },
  {
   "cell_type": "code",
   "execution_count": 8,
   "id": "cffebc0b",
   "metadata": {},
   "outputs": [
    {
     "data": {
      "text/plain": [
       "YearsExperience    0\n",
       "Age                0\n",
       "Salary             0\n",
       "dtype: int64"
      ]
     },
     "execution_count": 8,
     "metadata": {},
     "output_type": "execute_result"
    }
   ],
   "source": [
    "df.isnull().sum()"
   ]
  },
  {
   "cell_type": "code",
   "execution_count": 9,
   "id": "d2c10a96",
   "metadata": {},
   "outputs": [],
   "source": [
    "sum_table=df.groupby('Age')['Salary'].agg(['mean','median','min','max','std'])"
   ]
  },
  {
   "cell_type": "code",
   "execution_count": 15,
   "id": "276172ce",
   "metadata": {},
   "outputs": [
    {
     "name": "stdout",
     "output_type": "stream",
     "text": [
      "               mean    median     min     max          std\n",
      "Age                                                       \n",
      "21.0   39343.000000   39343.0   39343   39343          NaN\n",
      "21.5   46205.000000   46205.0   46205   46205          NaN\n",
      "21.7   37731.000000   37731.0   37731   37731          NaN\n",
      "22.0   43525.000000   43525.0   43525   43525          NaN\n",
      "22.2   39891.000000   39891.0   39891   39891          NaN\n",
      "23.0   58396.000000   58396.0   56642   60150  2480.530588\n",
      "23.3   59445.000000   59445.0   54445   64445  7071.067812\n",
      "23.6   57189.000000   57189.0   57189   57189          NaN\n",
      "23.9   63218.000000   63218.0   63218   63218          NaN\n",
      "24.0   56610.666667   56957.0   55794   57081   709.966431\n",
      "25.0   64524.500000   64524.5   61111   67938  4827.417995\n",
      "26.0   66029.000000   66029.0   66029   66029          NaN\n",
      "27.0   83088.000000   83088.0   83088   83088          NaN\n",
      "28.0   81363.000000   81363.0   81363   81363          NaN\n",
      "29.0   93940.000000   93940.0   93940   93940          NaN\n",
      "30.0   95005.500000   95005.5   91738   98273  4620.942815\n",
      "31.0  101302.000000  101302.0  101302  101302          NaN\n",
      "32.0  113812.000000  113812.0  113812  113812          NaN\n",
      "33.0  109431.000000  109431.0  109431  109431          NaN\n",
      "34.0  105582.000000  105582.0  105582  105582          NaN\n",
      "35.0  116969.000000  116969.0  116969  116969          NaN\n",
      "36.0  112635.000000  112635.0  112635  112635          NaN\n",
      "37.0  122391.000000  122391.0  122391  122391          NaN\n",
      "38.0  121872.000000  121872.0  121872  121872          NaN\n"
     ]
    }
   ],
   "source": [
    "print(sum_table)"
   ]
  },
  {
   "cell_type": "code",
   "execution_count": 10,
   "id": "ba8235ec",
   "metadata": {},
   "outputs": [],
   "source": [
    "df1=pd.read_csv('iris.csv')"
   ]
  },
  {
   "cell_type": "code",
   "execution_count": 11,
   "id": "f2ba0bc8",
   "metadata": {},
   "outputs": [
    {
     "data": {
      "text/html": [
       "<div>\n",
       "<style scoped>\n",
       "    .dataframe tbody tr th:only-of-type {\n",
       "        vertical-align: middle;\n",
       "    }\n",
       "\n",
       "    .dataframe tbody tr th {\n",
       "        vertical-align: top;\n",
       "    }\n",
       "\n",
       "    .dataframe thead th {\n",
       "        text-align: right;\n",
       "    }\n",
       "</style>\n",
       "<table border=\"1\" class=\"dataframe\">\n",
       "  <thead>\n",
       "    <tr style=\"text-align: right;\">\n",
       "      <th></th>\n",
       "      <th>sepal.length</th>\n",
       "      <th>sepal.width</th>\n",
       "      <th>petal.length</th>\n",
       "      <th>petal.width</th>\n",
       "      <th>variety</th>\n",
       "    </tr>\n",
       "  </thead>\n",
       "  <tbody>\n",
       "    <tr>\n",
       "      <th>0</th>\n",
       "      <td>5.1</td>\n",
       "      <td>3.5</td>\n",
       "      <td>1.4</td>\n",
       "      <td>0.2</td>\n",
       "      <td>Setosa</td>\n",
       "    </tr>\n",
       "    <tr>\n",
       "      <th>1</th>\n",
       "      <td>4.9</td>\n",
       "      <td>3.0</td>\n",
       "      <td>1.4</td>\n",
       "      <td>0.2</td>\n",
       "      <td>Setosa</td>\n",
       "    </tr>\n",
       "    <tr>\n",
       "      <th>2</th>\n",
       "      <td>4.7</td>\n",
       "      <td>3.2</td>\n",
       "      <td>1.3</td>\n",
       "      <td>0.2</td>\n",
       "      <td>Setosa</td>\n",
       "    </tr>\n",
       "    <tr>\n",
       "      <th>3</th>\n",
       "      <td>4.6</td>\n",
       "      <td>3.1</td>\n",
       "      <td>1.5</td>\n",
       "      <td>0.2</td>\n",
       "      <td>Setosa</td>\n",
       "    </tr>\n",
       "    <tr>\n",
       "      <th>4</th>\n",
       "      <td>5.0</td>\n",
       "      <td>3.6</td>\n",
       "      <td>1.4</td>\n",
       "      <td>0.2</td>\n",
       "      <td>Setosa</td>\n",
       "    </tr>\n",
       "  </tbody>\n",
       "</table>\n",
       "</div>"
      ],
      "text/plain": [
       "   sepal.length  sepal.width  petal.length  petal.width variety\n",
       "0           5.1          3.5           1.4          0.2  Setosa\n",
       "1           4.9          3.0           1.4          0.2  Setosa\n",
       "2           4.7          3.2           1.3          0.2  Setosa\n",
       "3           4.6          3.1           1.5          0.2  Setosa\n",
       "4           5.0          3.6           1.4          0.2  Setosa"
      ]
     },
     "execution_count": 11,
     "metadata": {},
     "output_type": "execute_result"
    }
   ],
   "source": [
    "df1.head()"
   ]
  },
  {
   "cell_type": "code",
   "execution_count": 12,
   "id": "64d7b6b1",
   "metadata": {},
   "outputs": [
    {
     "data": {
      "text/plain": [
       "Index(['sepal.length', 'sepal.width', 'petal.length', 'petal.width',\n",
       "       'variety'],\n",
       "      dtype='object')"
      ]
     },
     "execution_count": 12,
     "metadata": {},
     "output_type": "execute_result"
    }
   ],
   "source": [
    "df1.columns"
   ]
  },
  {
   "cell_type": "code",
   "execution_count": 13,
   "id": "61befac6",
   "metadata": {},
   "outputs": [
    {
     "data": {
      "text/plain": [
       "<bound method NDFrame.describe of      sepal.length  sepal.width  petal.length  petal.width    variety\n",
       "0             5.1          3.5           1.4          0.2     Setosa\n",
       "1             4.9          3.0           1.4          0.2     Setosa\n",
       "2             4.7          3.2           1.3          0.2     Setosa\n",
       "3             4.6          3.1           1.5          0.2     Setosa\n",
       "4             5.0          3.6           1.4          0.2     Setosa\n",
       "..            ...          ...           ...          ...        ...\n",
       "145           6.7          3.0           5.2          2.3  Virginica\n",
       "146           6.3          2.5           5.0          1.9  Virginica\n",
       "147           6.5          3.0           5.2          2.0  Virginica\n",
       "148           6.2          3.4           5.4          2.3  Virginica\n",
       "149           5.9          3.0           5.1          1.8  Virginica\n",
       "\n",
       "[150 rows x 5 columns]>"
      ]
     },
     "execution_count": 13,
     "metadata": {},
     "output_type": "execute_result"
    }
   ],
   "source": [
    "df1.describe"
   ]
  },
  {
   "cell_type": "code",
   "execution_count": 14,
   "id": "b46723fd",
   "metadata": {},
   "outputs": [
    {
     "data": {
      "text/plain": [
       "YearsExperience    float64\n",
       "Age                float64\n",
       "Salary               int64\n",
       "dtype: object"
      ]
     },
     "execution_count": 14,
     "metadata": {},
     "output_type": "execute_result"
    }
   ],
   "source": [
    "df.dtypes"
   ]
  },
  {
   "cell_type": "code",
   "execution_count": 15,
   "id": "ac7f9466",
   "metadata": {},
   "outputs": [
    {
     "data": {
      "text/plain": [
       "float64    2\n",
       "int64      1\n",
       "Name: count, dtype: int64"
      ]
     },
     "execution_count": 15,
     "metadata": {},
     "output_type": "execute_result"
    }
   ],
   "source": [
    "df.dtypes.value_counts()"
   ]
  },
  {
   "cell_type": "code",
   "execution_count": 16,
   "id": "1841b016",
   "metadata": {},
   "outputs": [
    {
     "data": {
      "text/plain": [
       "YearsExperience    0\n",
       "Age                0\n",
       "Salary             0\n",
       "dtype: int64"
      ]
     },
     "execution_count": 16,
     "metadata": {},
     "output_type": "execute_result"
    }
   ],
   "source": [
    "df.isnull().sum()"
   ]
  },
  {
   "cell_type": "code",
   "execution_count": 19,
   "id": "1341f00f",
   "metadata": {},
   "outputs": [],
   "source": [
    "setosa_data =df1[df1['variety']=='Iris-setosa']"
   ]
  },
  {
   "cell_type": "code",
   "execution_count": 20,
   "id": "6344881e",
   "metadata": {},
   "outputs": [],
   "source": [
    "versicolor_data=df1[df1['variety']=='Iris-versicolor']"
   ]
  },
  {
   "cell_type": "code",
   "execution_count": 21,
   "id": "20fa35c8",
   "metadata": {},
   "outputs": [],
   "source": [
    "virginica_data=df1[df1['variety']=='Iris-virginica']"
   ]
  },
  {
   "cell_type": "code",
   "execution_count": 22,
   "id": "87172cdd",
   "metadata": {},
   "outputs": [
    {
     "name": "stdout",
     "output_type": "stream",
     "text": [
      "Iris-setosa statistical details:\n",
      "       sepal.length  sepal.width  petal.length  petal.width\n",
      "count           0.0          0.0           0.0          0.0\n",
      "mean            NaN          NaN           NaN          NaN\n",
      "std             NaN          NaN           NaN          NaN\n",
      "min             NaN          NaN           NaN          NaN\n",
      "25%             NaN          NaN           NaN          NaN\n",
      "50%             NaN          NaN           NaN          NaN\n",
      "75%             NaN          NaN           NaN          NaN\n",
      "max             NaN          NaN           NaN          NaN\n"
     ]
    }
   ],
   "source": [
    "print(\"Iris-setosa statistical details:\")\n",
    "print(setosa_data.describe())\n"
   ]
  },
  {
   "cell_type": "code",
   "execution_count": 23,
   "id": "d4bfea31",
   "metadata": {},
   "outputs": [
    {
     "name": "stdout",
     "output_type": "stream",
     "text": [
      "\n",
      "Iris-versicolor statistical details:\n",
      "       sepal.length  sepal.width  petal.length  petal.width\n",
      "count           0.0          0.0           0.0          0.0\n",
      "mean            NaN          NaN           NaN          NaN\n",
      "std             NaN          NaN           NaN          NaN\n",
      "min             NaN          NaN           NaN          NaN\n",
      "25%             NaN          NaN           NaN          NaN\n",
      "50%             NaN          NaN           NaN          NaN\n",
      "75%             NaN          NaN           NaN          NaN\n",
      "max             NaN          NaN           NaN          NaN\n"
     ]
    }
   ],
   "source": [
    "print(\"\\nIris-versicolor statistical details:\")\n",
    "print(versicolor_data.describe())\n"
   ]
  },
  {
   "cell_type": "code",
   "execution_count": 24,
   "id": "23f5ab91",
   "metadata": {},
   "outputs": [
    {
     "name": "stdout",
     "output_type": "stream",
     "text": [
      "\n",
      "Iris-virginica statistical details:\n",
      "       sepal.length  sepal.width  petal.length  petal.width\n",
      "count           0.0          0.0           0.0          0.0\n",
      "mean            NaN          NaN           NaN          NaN\n",
      "std             NaN          NaN           NaN          NaN\n",
      "min             NaN          NaN           NaN          NaN\n",
      "25%             NaN          NaN           NaN          NaN\n",
      "50%             NaN          NaN           NaN          NaN\n",
      "75%             NaN          NaN           NaN          NaN\n",
      "max             NaN          NaN           NaN          NaN\n"
     ]
    }
   ],
   "source": [
    "print(\"\\nIris-virginica statistical details:\")\n",
    "print(virginica_data.describe())"
   ]
  },
  {
   "cell_type": "code",
   "execution_count": null,
   "id": "35e6790e",
   "metadata": {},
   "outputs": [],
   "source": []
  }
 ],
 "metadata": {
  "kernelspec": {
   "display_name": "Python 3 (ipykernel)",
   "language": "python",
   "name": "python3"
  },
  "language_info": {
   "codemirror_mode": {
    "name": "ipython",
    "version": 3
   },
   "file_extension": ".py",
   "mimetype": "text/x-python",
   "name": "python",
   "nbconvert_exporter": "python",
   "pygments_lexer": "ipython3",
   "version": "3.10.7"
  }
 },
 "nbformat": 4,
 "nbformat_minor": 5
}
