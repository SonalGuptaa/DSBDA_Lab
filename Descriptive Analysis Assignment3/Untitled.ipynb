{
 "cells": [
  {
   "cell_type": "code",
   "execution_count": 1,
   "id": "5963e657",
   "metadata": {},
   "outputs": [],
   "source": [
    "import pandas as pd"
   ]
  },
  {
   "cell_type": "code",
   "execution_count": 3,
   "id": "8e708262",
   "metadata": {},
   "outputs": [],
   "source": [
    "df=pd.read_csv('Salary_Data.csv')"
   ]
  },
  {
   "cell_type": "code",
   "execution_count": 4,
   "id": "b733268a",
   "metadata": {},
   "outputs": [
    {
     "data": {
      "text/plain": [
       "<bound method NDFrame.head of     YearsExperience   Age  Salary\n",
       "0               1.1  21.0   39343\n",
       "1               1.3  21.5   46205\n",
       "2               1.5  21.7   37731\n",
       "3               2.0  22.0   43525\n",
       "4               2.2  22.2   39891\n",
       "5               2.9  23.0   56642\n",
       "6               3.0  23.0   60150\n",
       "7               3.2  23.3   54445\n",
       "8               3.2  23.3   64445\n",
       "9               3.7  23.6   57189\n",
       "10              3.9  23.9   63218\n",
       "11              4.0  24.0   55794\n",
       "12              4.0  24.0   56957\n",
       "13              4.1  24.0   57081\n",
       "14              4.5  25.0   61111\n",
       "15              4.9  25.0   67938\n",
       "16              5.1  26.0   66029\n",
       "17              5.3  27.0   83088\n",
       "18              5.9  28.0   81363\n",
       "19              6.0  29.0   93940\n",
       "20              6.8  30.0   91738\n",
       "21              7.1  30.0   98273\n",
       "22              7.9  31.0  101302\n",
       "23              8.2  32.0  113812\n",
       "24              8.7  33.0  109431\n",
       "25              9.0  34.0  105582\n",
       "26              9.5  35.0  116969\n",
       "27              9.6  36.0  112635\n",
       "28             10.3  37.0  122391\n",
       "29             10.5  38.0  121872>"
      ]
     },
     "execution_count": 4,
     "metadata": {},
     "output_type": "execute_result"
    }
   ],
   "source": [
    "df.head"
   ]
  },
  {
   "cell_type": "code",
   "execution_count": 5,
   "id": "5d91cb91",
   "metadata": {},
   "outputs": [
    {
     "data": {
      "text/plain": [
       "Index(['YearsExperience', 'Age', 'Salary'], dtype='object')"
      ]
     },
     "execution_count": 5,
     "metadata": {},
     "output_type": "execute_result"
    }
   ],
   "source": [
    "df.columns"
   ]
  },
  {
   "cell_type": "code",
   "execution_count": 6,
   "id": "99fad0f4",
   "metadata": {},
   "outputs": [
    {
     "data": {
      "text/plain": [
       "YearsExperience    float64\n",
       "Age                float64\n",
       "Salary               int64\n",
       "dtype: object"
      ]
     },
     "execution_count": 6,
     "metadata": {},
     "output_type": "execute_result"
    }
   ],
   "source": [
    "df.dtypes"
   ]
  },
  {
   "cell_type": "code",
   "execution_count": 7,
   "id": "142405fe",
   "metadata": {},
   "outputs": [
    {
     "data": {
      "text/plain": [
       "YearsExperience    0\n",
       "Age                0\n",
       "Salary             0\n",
       "dtype: int64"
      ]
     },
     "execution_count": 7,
     "metadata": {},
     "output_type": "execute_result"
    }
   ],
   "source": [
    "df.isnull().sum()"
   ]
  },
  {
   "cell_type": "code",
   "execution_count": 10,
   "id": "cffebc0b",
   "metadata": {},
   "outputs": [],
   "source": [
    "sum_table= df.groupby('Age')['Salary'].agg(['mean','median','min','max','std'])\n"
   ]
  },
  {
   "cell_type": "code",
   "execution_count": 12,
   "id": "d2c10a96",
   "metadata": {},
   "outputs": [
    {
     "name": "stdout",
     "output_type": "stream",
     "text": [
      "               mean    median     min     max          std\n",
      "Age                                                       \n",
      "21.0   39343.000000   39343.0   39343   39343          NaN\n",
      "21.5   46205.000000   46205.0   46205   46205          NaN\n",
      "21.7   37731.000000   37731.0   37731   37731          NaN\n",
      "22.0   43525.000000   43525.0   43525   43525          NaN\n",
      "22.2   39891.000000   39891.0   39891   39891          NaN\n",
      "23.0   58396.000000   58396.0   56642   60150  2480.530588\n",
      "23.3   59445.000000   59445.0   54445   64445  7071.067812\n",
      "23.6   57189.000000   57189.0   57189   57189          NaN\n",
      "23.9   63218.000000   63218.0   63218   63218          NaN\n",
      "24.0   56610.666667   56957.0   55794   57081   709.966431\n",
      "25.0   64524.500000   64524.5   61111   67938  4827.417995\n",
      "26.0   66029.000000   66029.0   66029   66029          NaN\n",
      "27.0   83088.000000   83088.0   83088   83088          NaN\n",
      "28.0   81363.000000   81363.0   81363   81363          NaN\n",
      "29.0   93940.000000   93940.0   93940   93940          NaN\n",
      "30.0   95005.500000   95005.5   91738   98273  4620.942815\n",
      "31.0  101302.000000  101302.0  101302  101302          NaN\n",
      "32.0  113812.000000  113812.0  113812  113812          NaN\n",
      "33.0  109431.000000  109431.0  109431  109431          NaN\n",
      "34.0  105582.000000  105582.0  105582  105582          NaN\n",
      "35.0  116969.000000  116969.0  116969  116969          NaN\n",
      "36.0  112635.000000  112635.0  112635  112635          NaN\n",
      "37.0  122391.000000  122391.0  122391  122391          NaN\n",
      "38.0  121872.000000  121872.0  121872  121872          NaN\n"
     ]
    }
   ],
   "source": [
    "print(sum_table)"
   ]
  },
  {
   "cell_type": "code",
   "execution_count": 14,
   "id": "276172ce",
   "metadata": {},
   "outputs": [],
   "source": [
    "df1=pd.read_csv('iris.data.csv')"
   ]
  },
  {
   "cell_type": "code",
   "execution_count": 15,
   "id": "ba8235ec",
   "metadata": {},
   "outputs": [
    {
     "data": {
      "text/plain": [
       "<bound method NDFrame.head of      5.1  3.5  1.4  0.2     Iris-setosa\n",
       "0    4.9  3.0  1.4  0.2     Iris-setosa\n",
       "1    4.7  3.2  1.3  0.2     Iris-setosa\n",
       "2    4.6  3.1  1.5  0.2     Iris-setosa\n",
       "3    5.0  3.6  1.4  0.2     Iris-setosa\n",
       "4    5.4  3.9  1.7  0.4     Iris-setosa\n",
       "..   ...  ...  ...  ...             ...\n",
       "144  6.7  3.0  5.2  2.3  Iris-virginica\n",
       "145  6.3  2.5  5.0  1.9  Iris-virginica\n",
       "146  6.5  3.0  5.2  2.0  Iris-virginica\n",
       "147  6.2  3.4  5.4  2.3  Iris-virginica\n",
       "148  5.9  3.0  5.1  1.8  Iris-virginica\n",
       "\n",
       "[149 rows x 5 columns]>"
      ]
     },
     "execution_count": 15,
     "metadata": {},
     "output_type": "execute_result"
    }
   ],
   "source": [
    "df1.head"
   ]
  },
  {
   "cell_type": "code",
   "execution_count": 16,
   "id": "f2ba0bc8",
   "metadata": {},
   "outputs": [
    {
     "data": {
      "text/plain": [
       "Index(['5.1', '3.5', '1.4', '0.2', 'Iris-setosa'], dtype='object')"
      ]
     },
     "execution_count": 16,
     "metadata": {},
     "output_type": "execute_result"
    }
   ],
   "source": [
    "df1.columns"
   ]
  },
  {
   "cell_type": "code",
   "execution_count": 17,
   "id": "64d7b6b1",
   "metadata": {},
   "outputs": [
    {
     "data": {
      "text/plain": [
       "5.1            float64\n",
       "3.5            float64\n",
       "1.4            float64\n",
       "0.2            float64\n",
       "Iris-setosa     object\n",
       "dtype: object"
      ]
     },
     "execution_count": 17,
     "metadata": {},
     "output_type": "execute_result"
    }
   ],
   "source": [
    "df1.dtypes"
   ]
  },
  {
   "cell_type": "code",
   "execution_count": 18,
   "id": "61befac6",
   "metadata": {},
   "outputs": [
    {
     "data": {
      "text/plain": [
       "5.1            0\n",
       "3.5            0\n",
       "1.4            0\n",
       "0.2            0\n",
       "Iris-setosa    0\n",
       "dtype: int64"
      ]
     },
     "execution_count": 18,
     "metadata": {},
     "output_type": "execute_result"
    }
   ],
   "source": [
    "df1.isnull().sum()"
   ]
  },
  {
   "cell_type": "code",
   "execution_count": null,
   "id": "b46723fd",
   "metadata": {},
   "outputs": [],
   "source": []
  }
 ],
 "metadata": {
  "kernelspec": {
   "display_name": "Python 3 (ipykernel)",
   "language": "python",
   "name": "python3"
  },
  "language_info": {
   "codemirror_mode": {
    "name": "ipython",
    "version": 3
   },
   "file_extension": ".py",
   "mimetype": "text/x-python",
   "name": "python",
   "nbconvert_exporter": "python",
   "pygments_lexer": "ipython3",
   "version": "3.10.7"
  }
 },
 "nbformat": 4,
 "nbformat_minor": 5
}
